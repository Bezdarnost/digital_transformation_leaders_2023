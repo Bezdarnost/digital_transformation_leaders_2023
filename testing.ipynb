{
 "cells": [
  {
   "cell_type": "code",
   "execution_count": 1,
   "id": "9ecc94cf-9497-4600-abca-eb31915f1426",
   "metadata": {},
   "outputs": [],
   "source": [
    "import torch\n",
    "import torch.nn as nn\n",
    "import torch.optim as optim\n",
    "import torch.nn.functional as F\n",
    "import os\n",
    "import pandas as pd\n",
    "import numpy as np\n",
    "import math\n",
    "from tqdm import tqdm\n",
    "from torch.utils.data import Dataset, DataLoader, ConcatDataset\n",
    "import matplotlib.pyplot as plt\n",
    "%matplotlib inline"
   ]
  },
  {
   "cell_type": "code",
   "execution_count": 2,
   "id": "f0853791-cabd-46ef-a345-9aab5a330f84",
   "metadata": {},
   "outputs": [
    {
     "data": {
      "text/plain": [
       "device(type='cuda')"
      ]
     },
     "execution_count": 2,
     "metadata": {},
     "output_type": "execute_result"
    }
   ],
   "source": [
    "batch_size = 64\n",
    "\n",
    "device = torch.device(\"cuda\" if torch.cuda.is_available() else \"cpu\")\n",
    "device"
   ]
  },
  {
   "cell_type": "code",
   "execution_count": 3,
   "id": "e927cc44-5548-4ec5-a5d5-4affda50540a",
   "metadata": {},
   "outputs": [
    {
     "data": {
      "text/plain": [
       "<All keys matched successfully>"
      ]
     },
     "execution_count": 3,
     "metadata": {},
     "output_type": "execute_result"
    }
   ],
   "source": [
    "class SiameseNet(nn.Module):\n",
    "    def __init__(self):\n",
    "        super(SiameseNet, self).__init__()\n",
    "        self.body = nn.Sequential(\n",
    "            nn.Linear(324, 512),\n",
    "            nn.GELU(),\n",
    "            nn.Linear(512, 512),\n",
    "        )\n",
    "        self.classifier = nn.Sequential(\n",
    "            nn.SiLU(),\n",
    "            nn.Linear(512, 512),\n",
    "            nn.ELU(),\n",
    "            nn.Linear(512, 1),\n",
    "            nn.Sigmoid()\n",
    "        )\n",
    "        \n",
    "    def forward(self, input1, input2):\n",
    "        output1 = self.body(input1)\n",
    "        output2 = self.body(input2)\n",
    "        output = torch.abs(torch.subtract(output1, output2))\n",
    "        output = self.classifier(output)\n",
    "        return output\n",
    "    \n",
    "model = SiameseNet();\n",
    "model.load_state_dict(torch.load('model_v5_39.pth'))"
   ]
  },
  {
   "cell_type": "code",
   "execution_count": 4,
   "id": "e2f37374-3413-4511-b86a-ca1c90c1e5c2",
   "metadata": {},
   "outputs": [],
   "source": [
    "model.to(device);"
   ]
  },
  {
   "cell_type": "code",
   "execution_count": 5,
   "id": "b5243c85-6a0f-4d91-8495-92f8822d0d26",
   "metadata": {},
   "outputs": [],
   "source": [
    "class LCTTestDataset(Dataset):\n",
    "    def __init__(self, data, pairs):\n",
    "        self.data = pd.read_csv(data)\n",
    "        self.pairs = pd.read_parquet(pairs)\n",
    "        \n",
    "    def __len__(self):\n",
    "        return len(self.pairs)\n",
    "    \n",
    "    def __getitem__(self,index):\n",
    "        data1 = self.data[self.data['variantid'] == self.pairs['variantid1'][index]].iloc[0, 1:].values\n",
    "        \n",
    "        data2 = self.data[self.data['variantid'] == self.pairs['variantid2'][index]].iloc[0, 1:].values\n",
    "        \n",
    "        target = None\n",
    "        return data1, data2,"
   ]
  },
  {
   "cell_type": "code",
   "execution_count": 6,
   "id": "4625c971-0a1c-47c4-995d-6fa7df341b72",
   "metadata": {},
   "outputs": [],
   "source": [
    "data_path = 'dataset.csv'\n",
    "pairs_path = 'test_pairs_wo_target.parquet'"
   ]
  },
  {
   "cell_type": "code",
   "execution_count": 7,
   "id": "aeafc9ed-d3f2-48f9-a845-aedc92fc6b4e",
   "metadata": {},
   "outputs": [],
   "source": [
    "for param in model.parameters():\n",
    "    param.requires_grad = False\n",
    "\n",
    "model.eval()\n",
    "test_pred = torch.Tensor()    \n",
    "testdataset = LCTTestDataset(data=data_path, pairs=pairs_path)    # get dataset\n",
    "testloader = torch.utils.data.DataLoader(testdataset, batch_size=128, shuffle=False)    # make batches\n",
    "\n",
    "for features1, features2 in testloader:\n",
    "    inputs1, inputs2 = features1.to(device).float(), features2.to(device).float()\n",
    "    outputs = model(inputs1, inputs2)    # predict\n",
    "    test_pred = torch.cat((test_pred.to(device), outputs.to(device)), dim=0)"
   ]
  },
  {
   "cell_type": "code",
   "execution_count": 8,
   "id": "b2f852d4-ff2b-4efd-ad35-d84fd8e36508",
   "metadata": {},
   "outputs": [],
   "source": [
    "test = pd.read_parquet('test_pairs_wo_target.parquet')\n",
    "test['target'] = test_pred.detach().cpu()"
   ]
  },
  {
   "cell_type": "code",
   "execution_count": 9,
   "id": "dcdaff03-3098-402f-9b5f-9d2dfa73c50b",
   "metadata": {},
   "outputs": [],
   "source": [
    "test.to_csv('sub16.csv', index=False)"
   ]
  },
  {
   "cell_type": "code",
   "execution_count": null,
   "id": "407eecc2-7303-47c9-a31b-31bb67c97653",
   "metadata": {},
   "outputs": [],
   "source": []
  }
 ],
 "metadata": {
  "kernelspec": {
   "display_name": "Python 3 (ipykernel)",
   "language": "python",
   "name": "python3"
  },
  "language_info": {
   "codemirror_mode": {
    "name": "ipython",
    "version": 3
   },
   "file_extension": ".py",
   "mimetype": "text/x-python",
   "name": "python",
   "nbconvert_exporter": "python",
   "pygments_lexer": "ipython3",
   "version": "3.9.12"
  }
 },
 "nbformat": 4,
 "nbformat_minor": 5
}
